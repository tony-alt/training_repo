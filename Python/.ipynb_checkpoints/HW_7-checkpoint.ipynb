{
 "cells": [
  {
   "cell_type": "code",
   "execution_count": 1,
   "metadata": {},
   "outputs": [
    {
     "name": "stdout",
     "output_type": "stream",
     "text": [
      "['777', '70']\n"
     ]
    }
   ],
   "source": [
    "import re\n",
    "\n",
    "\n",
    "def valid_transport_number(number):\n",
    "    match = re.match(\"^[A-Z0-9]*-[0-9]*-[A-Z]*$\", number)\n",
    "    if match is not None:\n",
    "        split = number.split('-')\n",
    "        return [re.sub(\"[^0-9]\", \"\", split[0]), split[1]]\n",
    "    print('Введен неверный формат. Пример ввода: P777MK-70-RUS')\n",
    "\n",
    "\n",
    "# test\n",
    "arr = valid_transport_number('P777MK-70-RUS')\n",
    "print(arr)"
   ]
  },
  {
   "cell_type": "code",
   "execution_count": 2,
   "metadata": {},
   "outputs": [
    {
     "name": "stdout",
     "output_type": "stream",
     "text": [
      "True\n"
     ]
    }
   ],
   "source": [
    "import re\n",
    "\n",
    "\n",
    "def valid_email_check(email):\n",
    "    match = re.match(\"^[a-zA-Z0-9._-]{4,}@[a-z0-9]{2,}.[a-z]{2,4}$\", email)\n",
    "    return match is not None\n",
    "\n",
    "\n",
    "# test\n",
    "print(valid_email_check('cool@gmail.com'))"
   ]
  },
  {
   "cell_type": "code",
   "execution_count": 4,
   "metadata": {},
   "outputs": [
    {
     "name": "stdout",
     "output_type": "stream",
     "text": [
      "one two three four\n"
     ]
    }
   ],
   "source": [
    "import re\n",
    "\n",
    "\n",
    "def delete_dup(s):\n",
    "    return re.sub(r'\\b(\\w+)( \\1\\b)+', r'\\1', s)\n",
    "\n",
    "\n",
    "# test\n",
    "print(delete_dup('one two two three four four'))"
   ]
  },
  {
   "cell_type": "code",
   "execution_count": 5,
   "metadata": {},
   "outputs": [
    {
     "name": "stdout",
     "output_type": "stream",
     "text": [
      "+7(955)-555-55-55\n",
      "+7(955)-555-55-55\n",
      "+7(955)-555-55-55\n",
      "+7(955)-555-55-55\n",
      "+7(955)-555-55-55\n",
      "+7(955)-555-55-55\n",
      "Неверный формат номера\n",
      "None\n"
     ]
    }
   ],
   "source": [
    "import re\n",
    "\n",
    "\n",
    "def get_phone_number(s):\n",
    "    match = re.match(\"^[+]?[78]?[ ]?[-( +]?[0-9]{3}[-) +]?[ ]?[0-9]{3}[- +]?[0-9]{2}[- +]?[0-9]{2}$\", s)\n",
    "    if match is None:\n",
    "        print('Неверный формат номера')\n",
    "        return None\n",
    "    s = re.sub(\"[-+ ()]\", \"\", s)\n",
    "    if len(s) == 11:\n",
    "        s = s[1:]\n",
    "    return '+7' + re.sub(r'(\\d\\d\\d)(\\d\\d\\d)(\\d\\d)(\\d\\d)', r'(\\1)-\\2-\\3-\\4', s)\n",
    "\n",
    "\n",
    "# test\n",
    "print(get_phone_number('+7 955 555-55-55'))\n",
    "print(get_phone_number('9555555555'))\n",
    "print(get_phone_number('8(955)555-55-55'))\n",
    "print(get_phone_number('+7 955 555 55 55'))\n",
    "print(get_phone_number('7(955) 555-55-55'))\n",
    "print(get_phone_number('+7 955+555+55+55'))\n",
    "print(get_phone_number('+9 955+555+55+55'))  # invalid"
   ]
  }
 ],
 "metadata": {
  "kernelspec": {
   "display_name": "Python 3",
   "language": "python",
   "name": "python3"
  },
  "language_info": {
   "codemirror_mode": {
    "name": "ipython",
    "version": 3
   },
   "file_extension": ".py",
   "mimetype": "text/x-python",
   "name": "python",
   "nbconvert_exporter": "python",
   "pygments_lexer": "ipython3",
   "version": "3.7.6"
  }
 },
 "nbformat": 4,
 "nbformat_minor": 4
}
