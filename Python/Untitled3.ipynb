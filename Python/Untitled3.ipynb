{
 "cells": [
  {
   "cell_type": "code",
   "execution_count": 2,
   "metadata": {},
   "outputs": [
    {
     "name": "stdout",
     "output_type": "stream",
     "text": [
      "[datetime.datetime(2020, 5, 30, 0, 0), datetime.datetime(2020, 5, 31, 0, 0), datetime.datetime(2020, 6, 1, 0, 0), datetime.datetime(2020, 6, 2, 0, 0), datetime.datetime(2020, 6, 3, 0, 0), datetime.datetime(2020, 6, 4, 0, 0), datetime.datetime(2020, 6, 5, 0, 0)]\n"
     ]
    }
   ],
   "source": [
    "import datetime\n",
    "\n",
    "def date_range(start_date, end_date):\n",
    "  date_list = []\n",
    "  start = datetime.datetime.strptime(start_date, '%Y-%m-%d')\n",
    "  end = datetime.datetime.strptime(end_date, '%Y-%m-%d')\n",
    "  delta = end - start\n",
    "  for i in range(delta.days + 1):\n",
    "    date_list.append(start + datetime.timedelta(days=i))\n",
    "  return date_list\n",
    "\n",
    "test_list = date_range('2020-05-30', '2020-06-05')\n",
    "print(test_list)"
   ]
  },
  {
   "cell_type": "code",
   "execution_count": 3,
   "metadata": {},
   "outputs": [
    {
     "name": "stdout",
     "output_type": "stream",
     "text": [
      "Введен неверный формат даты. Верный формат: YYYY-MM-DD\n",
      "[]\n"
     ]
    }
   ],
   "source": [
    "import datetime\n",
    "\n",
    "def date_range(start_date, end_date):\n",
    "  date_list = []\n",
    "  try:\n",
    "    start = datetime.datetime.strptime(start_date, '%Y-%m-%d')\n",
    "    end = datetime.datetime.strptime(end_date, '%Y-%m-%d')\n",
    "  except ValueError:\n",
    "    print(\"Введен неверный формат даты. Верный формат: YYYY-MM-DD\")\n",
    "    return date_list\n",
    "  delta = end - start\n",
    "  for i in range(delta.days + 1):\n",
    "    date_list.append(start + datetime.timedelta(days=i))\n",
    "  return date_list\n",
    "\n",
    "#test\n",
    "test_list = date_range('2020-55-30', '2020-06-05')\n",
    "print(test_list)\n"
   ]
  },
  {
   "cell_type": "code",
   "execution_count": 4,
   "metadata": {},
   "outputs": [
    {
     "name": "stdout",
     "output_type": "stream",
     "text": [
      "True\n",
      "False\n",
      "False\n"
     ]
    }
   ],
   "source": [
    "import datetime\n",
    "\n",
    "stream = ['2018-04-02', '2018-02-29', '2018-19-02']\n",
    "\n",
    "def check_format(date):\n",
    "  try:\n",
    "    datetime.datetime.strptime(date, '%Y-%m-%d')\n",
    "    return True\n",
    "  except ValueError:\n",
    "    return False\n",
    "\n",
    "#test\n",
    "for el in stream:\n",
    "  print(check_format(el))"
   ]
  },
  {
   "cell_type": "code",
   "execution_count": null,
   "metadata": {},
   "outputs": [],
   "source": []
  },
  {
   "cell_type": "code",
   "execution_count": null,
   "metadata": {},
   "outputs": [],
   "source": []
  }
 ],
 "metadata": {
  "kernelspec": {
   "display_name": "Python 3",
   "language": "python",
   "name": "python3"
  },
  "language_info": {
   "codemirror_mode": {
    "name": "ipython",
    "version": 3
   },
   "file_extension": ".py",
   "mimetype": "text/x-python",
   "name": "python",
   "nbconvert_exporter": "python",
   "pygments_lexer": "ipython3",
   "version": "3.7.6"
  }
 },
 "nbformat": 4,
 "nbformat_minor": 4
}
