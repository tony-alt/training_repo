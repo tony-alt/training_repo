{
 "cells": [
  {
   "cell_type": "markdown",
   "metadata": {},
   "source": [
    "**Задание 1**. Даны 2 строки: *long_phrase* и *short_phrase*. \n",
    "Напишите код, который проверяет действительно ли длинная фраза *long_phrase* длиннее короткой *short_phrase*. И выводит *True* или *False* в зависимости от результата сравнения."
   ]
  },
  {
   "cell_type": "code",
   "execution_count": null,
   "metadata": {},
   "outputs": [],
   "source": [
    "long_phrase = 'Насколько проще было бы писать программы, если бы не заказчики'\n",
    "short_phrase = '640Кб должно хватить для любых задач. Билл Гейтс (по легенде)'"
   ]
  },
  {
   "cell_type": "code",
   "execution_count": 12,
   "metadata": {},
   "outputs": [
    {
     "name": "stdout",
     "output_type": "stream",
     "text": [
      "True\n"
     ]
    }
   ],
   "source": [
    "long_phrase = 'Насколько проще было бы писать программы, если бы не заказчики'\n",
    "short_phrase = '640Кб должно хватить для любых задач. Билл Гейтс (по легенде)'\n",
    "print(long_phrase > short_phrase)"
   ]
  },
  {
   "cell_type": "markdown",
   "metadata": {},
   "source": [
    "**Задание 2**. Дано значение объема файла в байтах (*в мегабайте 2^20 байт*). Напишите перевод этого значения в мегабайты в формате: \"*Объем файла равен 213.68Mb*\"."
   ]
  },
  {
   "cell_type": "code",
   "execution_count": 26,
   "metadata": {},
   "outputs": [
    {
     "name": "stdout",
     "output_type": "stream",
     "text": [
      "Объем файла равен 1.0 Mb\n"
     ]
    }
   ],
   "source": [
    "byte = 2**20\n",
    "print('Объем файла равен', byte / 1024 / 1024,'Mb')"
   ]
  },
  {
   "cell_type": "markdown",
   "metadata": {},
   "source": [
    "**Задание 3**. Разработать приложение для определения знака зодиака по дате рождения. Пример:\n",
    "\n",
    "Введите месяц: март\n",
    "\n",
    "Введите число: 6\n",
    "\n",
    "Вывод:\n",
    "Рыбы"
   ]
  },
  {
   "cell_type": "code",
   "execution_count": 20,
   "metadata": {},
   "outputs": [
    {
     "name": "stdout",
     "output_type": "stream",
     "text": [
      "Введите месяц:12\n",
      "Введите число:23\n",
      "Козерог\n"
     ]
    }
   ],
   "source": [
    "month = int(input('Введите месяц:'))\n",
    "day = int(input('Введите число:'))\n",
    "if month == 1:\n",
    "    if day >= 21: \n",
    "        print('Водолей')\n",
    "    elif day < 21:\n",
    "        print ('Козерог')\n",
    "elif month == 2:\n",
    "    if day >= 20:\n",
    "        print ('Рыбы')\n",
    "    elif day < 20:\n",
    "        print('Водолей')\n",
    "elif month == 3:\n",
    "    if day >= 21:\n",
    "        print ('Овен')\n",
    "    elif day < 21:\n",
    "        print ('Рыбы')\n",
    "elif month == 4:\n",
    "    if day >= 21:\n",
    "        print ('Телец')\n",
    "    elif day < 21:\n",
    "        print ('Овен')\n",
    "elif month == 5:\n",
    "    if day >= 22:\n",
    "        print ('Близнецы')\n",
    "    elif day < 22:\n",
    "        print ('Телец')\n",
    "elif month == 6:\n",
    "    if day >= 22:\n",
    "        print ('Рак')\n",
    "    elif day < 22:\n",
    "        print ('Близнецы')\n",
    "elif month == 7:\n",
    "    if day >= 23:\n",
    "        print ('Лев')\n",
    "    elif day < 23:\n",
    "        print ('Рак')\n",
    "elif month == 8:\n",
    "    if day >= 24:\n",
    "        print ('Дева')\n",
    "    elif day < 24:\n",
    "        print ('Лев')\n",
    "elif month == 9:\n",
    "    if day >= 24:\n",
    "        print ('Весы')\n",
    "    elif day < 24:\n",
    "        print ('Дева')\n",
    "elif month == 10:\n",
    "    if day >= 24:\n",
    "        print ('Скорпион')\n",
    "    elif day < 24:\n",
    "        print ('Весы')\n",
    "elif month == 11:\n",
    "    if day >= 23:\n",
    "        print ('Стрелец')\n",
    "    elif day < 23:\n",
    "        print ('Скорпион')\n",
    "elif month == 12:\n",
    "    if day >= 23:\n",
    "        print ('Козерог')\n",
    "    elif day < 23:\n",
    "        print ('Стрелец')        \n",
    "        \n",
    "            \n",
    "        "
   ]
  },
  {
   "cell_type": "markdown",
   "metadata": {},
   "source": [
    "**Задание 4**. Нужно разработать приложение для финансового планирования.\n",
    "Приложение учитывает сколько уходит на ипотеку, \"на жизнь\" и сколько нужно отложить на пенсию.\n",
    "Пользователь вводит:\n",
    "- заработанную плату в месяц.\n",
    "- сколько процентов от ЗП уходит на ипотеку.\n",
    "- сколько процентов от ЗП уходит \"на жизнь\".\n",
    "- сколько раз приходит премия в год.\n",
    "\n",
    "Остальная часть заработанной платы откладывается на пенсию.\n",
    "\n",
    "Также пользователю приходит премия в размере зарплаты, от которой половина уходит на отпуск, а вторая половина откладывается.\n",
    "\n",
    "Программа должна учитывать сколько премий было в год.\n",
    "\n",
    "Нужно вывести сколько денег тратит пользователь на ипотеку и сколько он накопит за год.\n",
    "\n",
    "Пример:\n",
    "\n",
    "Введите заработанную плату в месяц: 100000\n",
    "\n",
    "Введите сколько процентов уходит на ипотеку: 30\n",
    "\n",
    "Введите сколько процентов уходит на жизнь: 50\n",
    "\n",
    "Введите количество премий за год: 2\n",
    "\n",
    "Вывод:\n",
    "На ипотеку было потрачено: 360000 рублей\n",
    "Было накоплено: 340000 рублей"
   ]
  },
  {
   "cell_type": "code",
   "execution_count": 28,
   "metadata": {},
   "outputs": [
    {
     "name": "stdout",
     "output_type": "stream",
     "text": [
      "Введите заработанную плату в месяц:100000\n",
      "Введите сколько процентов от ЗП уходит на ипотеку:30\n",
      "Введите сколько процентов от ЗП уходит \"на жизнь\":50\n",
      "Введите количество премий за год:2\n",
      "На ипотеку было потрачено: 360000 рублей Было накоплено: 340000 рублей\n"
     ]
    }
   ],
   "source": [
    "wage = int(input('Введите заработанную плату в месяц:'))\n",
    "mortgage_percentage = int(input('Введите сколько процентов от ЗП уходит на ипотеку:'))/100\n",
    "life_percentage = int(input('Введите сколько процентов от ЗП уходит \"на жизнь\":'))/100\n",
    "premium = int(input('Введите количество премий за год:'))\n",
    "mortgage_wasted = wage * 12 * mortgage_percentage\n",
    "savings = wage * 12 - mortgage_wasted - wage * 12 * life_percentage + wage * premium / 2\n",
    "print('На ипотеку было потрачено:', int(mortgage_wasted), 'рублей Было накоплено:', int(savings), 'рублей')"
   ]
  },
  {
   "cell_type": "code",
   "execution_count": null,
   "metadata": {},
   "outputs": [],
   "source": []
  }
 ],
 "metadata": {
  "kernelspec": {
   "display_name": "Python 3",
   "language": "python",
   "name": "python3"
  },
  "language_info": {
   "codemirror_mode": {
    "name": "ipython",
    "version": 3
   },
   "file_extension": ".py",
   "mimetype": "text/x-python",
   "name": "python",
   "nbconvert_exporter": "python",
   "pygments_lexer": "ipython3",
   "version": "3.7.6"
  }
 },
 "nbformat": 4,
 "nbformat_minor": 2
}
